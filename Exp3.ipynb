{
 "cells": [
  {
   "cell_type": "code",
   "execution_count": 1,
   "metadata": {},
   "outputs": [
    {
     "name": "stdout",
     "output_type": "stream",
     "text": [
      "Original Data Sample:\n",
      "   total_bill   tip     sex smoker  day    time  size\n",
      "0       16.99  1.01  Female     No  Sun  Dinner     2\n",
      "1       10.34  1.66    Male     No  Sun  Dinner     3\n",
      "2       21.01  3.50    Male     No  Sun  Dinner     3\n",
      "3       23.68  3.31    Male     No  Sun  Dinner     2\n",
      "4       24.59  3.61  Female     No  Sun  Dinner     4\n",
      "\n",
      "Data with simulated missing 'total_bill':\n",
      "     total_bill   tip     sex smoker   day    time  size\n",
      "24          NaN  3.18    Male     No   Sat  Dinner     2\n",
      "6           NaN  2.00    Male     No   Sun  Dinner     2\n",
      "153         NaN  2.00    Male     No   Sun  Dinner     4\n",
      "211         NaN  5.16    Male    Yes   Sat  Dinner     4\n",
      "198         NaN  2.00  Female    Yes  Thur   Lunch     2\n",
      "176         NaN  2.00    Male    Yes   Sun  Dinner     2\n",
      "192         NaN  2.56    Male    Yes  Thur   Lunch     2\n",
      "124         NaN  2.52  Female     No  Thur   Lunch     2\n",
      "9           NaN  3.23    Male     No   Sun  Dinner     2\n",
      "101         NaN  3.00  Female    Yes   Fri  Dinner     2\n",
      "45          NaN  3.00    Male     No   Sun  Dinner     2\n",
      "233         NaN  1.47    Male     No   Sat  Dinner     2\n",
      "117         NaN  1.50  Female     No  Thur   Lunch     2\n",
      "177         NaN  2.00    Male    Yes   Sun  Dinner     2\n",
      "82          NaN  1.83  Female     No  Thur   Lunch     1\n",
      "146         NaN  1.36  Female     No  Thur   Lunch     3\n",
      "200         NaN  4.00    Male    Yes  Thur   Lunch     3\n",
      "15          NaN  3.92    Male     No   Sun  Dinner     2\n",
      "66          NaN  2.47  Female     No   Sat  Dinner     2\n",
      "142         NaN  5.00    Male     No  Thur   Lunch     5\n",
      "33          NaN  2.45  Female     No   Sat  Dinner     4\n",
      "19          NaN  3.35    Male     No   Sat  Dinner     3\n",
      "109         NaN  4.00  Female    Yes   Sat  Dinner     2\n",
      "30          NaN  1.45    Male     No   Sat  Dinner     2\n",
      "\n",
      "Missing data summary:\n",
      "total_bill    24\n",
      "tip            0\n",
      "sex            0\n",
      "smoker         0\n",
      "day            0\n",
      "time           0\n",
      "size           0\n",
      "dtype: int64\n"
     ]
    },
    {
     "data": {
      "image/png": "[encoded data removed]",
      "text/plain": [
       "<Figure size 576x288 with 1 Axes>"
      ]
     },
     "metadata": {
      "needs_background": "light"
     },
     "output_type": "display_data"
    },
    {
     "name": "stdout",
     "output_type": "stream",
     "text": [
      "\n",
      "After dropping rows, shape: (220, 7)\n",
      "\n",
      "After filling missing 'total_bill' with mean (20.00):\n",
      "     total_bill   tip     sex smoker   day    time  size\n",
      "24    20.003364  3.18    Male     No   Sat  Dinner     2\n",
      "6     20.003364  2.00    Male     No   Sun  Dinner     2\n",
      "153   20.003364  2.00    Male     No   Sun  Dinner     4\n",
      "211   20.003364  5.16    Male    Yes   Sat  Dinner     4\n",
      "198   20.003364  2.00  Female    Yes  Thur   Lunch     2\n",
      "176   20.003364  2.00    Male    Yes   Sun  Dinner     2\n",
      "192   20.003364  2.56    Male    Yes  Thur   Lunch     2\n",
      "124   20.003364  2.52  Female     No  Thur   Lunch     2\n",
      "9     20.003364  3.23    Male     No   Sun  Dinner     2\n",
      "101   20.003364  3.00  Female    Yes   Fri  Dinner     2\n",
      "45    20.003364  3.00    Male     No   Sun  Dinner     2\n",
      "233   20.003364  1.47    Male     No   Sat  Dinner     2\n",
      "117   20.003364  1.50  Female     No  Thur   Lunch     2\n",
      "177   20.003364  2.00    Male    Yes   Sun  Dinner     2\n",
      "82    20.003364  1.83  Female     No  Thur   Lunch     1\n",
      "146   20.003364  1.36  Female     No  Thur   Lunch     3\n",
      "200   20.003364  4.00    Male    Yes  Thur   Lunch     3\n",
      "15    20.003364  3.92    Male     No   Sun  Dinner     2\n",
      "66    20.003364  2.47  Female     No   Sat  Dinner     2\n",
      "142   20.003364  5.00    Male     No  Thur   Lunch     5\n",
      "33    20.003364  2.45  Female     No   Sat  Dinner     4\n",
      "19    20.003364  3.35    Male     No   Sat  Dinner     3\n",
      "109   20.003364  4.00  Female    Yes   Sat  Dinner     2\n",
      "30    20.003364  1.45    Male     No   Sat  Dinner     2\n"
     ]
    },
    {
     "data": {
      "image/png": "[encoded data removed]",
      "text/plain": [
       "<Figure size 576x288 with 1 Axes>"
      ]
     },
     "metadata": {
      "needs_background": "light"
     },
     "output_type": "display_data"
    }
   ],
   "source": [
    "import pandas as pd\n",
    "import numpy as np\n",
    "import matplotlib.pyplot as plt\n",
    "import seaborn as sns\n",
    "\n",
    "# Step 1: Load the dataset\n",
    "url = 'https://raw.githubusercontent.com/mwaskom/seaborn-data/master/tips.csv'\n",
    "data = pd.read_csv(url)\n",
    "\n",
    "print(\"Original Data Sample:\")\n",
    "print(data.head())\n",
    "\n",
    "# Step 2: Simulate missing data for demonstration\n",
    "# Randomly set 10% of 'total_bill' values to NaN\n",
    "np.random.seed(42)  # for reproducibility\n",
    "missing_indices = data.sample(frac=0.1).index\n",
    "data.loc[missing_indices, 'total_bill'] = np.nan\n",
    "\n",
    "print(\"\\nData with simulated missing 'total_bill':\")\n",
    "print(data.loc[missing_indices])\n",
    "\n",
    "# Step 3: Detect missing data\n",
    "print(\"\\nMissing data summary:\")\n",
    "print(data.isnull().sum())\n",
    "\n",
    "# Visualize missing data matrix\n",
    "plt.figure(figsize=(8,4))\n",
    "sns.heatmap(data.isnull(), cbar=False, yticklabels=False, cmap='viridis')\n",
    "plt.title('Missing Data Heatmap')\n",
    "plt.show()\n",
    "\n",
    "# Step 4: Handle missing data\n",
    "\n",
    "# Option 1: Drop rows with missing values\n",
    "data_dropped = data.dropna()\n",
    "print(f\"\\nAfter dropping rows, shape: {data_dropped.shape}\")\n",
    "\n",
    "# Option 2: Fill missing 'total_bill' with mean value\n",
    "mean_total_bill = data['total_bill'].mean()\n",
    "data_filled = data.copy()\n",
    "data_filled['total_bill'].fillna(mean_total_bill, inplace=True)\n",
    "print(f\"\\nAfter filling missing 'total_bill' with mean ({mean_total_bill:.2f}):\")\n",
    "print(data_filled.loc[missing_indices])\n",
    "\n",
    "# Step 5: Visualization after filling missing data\n",
    "plt.figure(figsize=(8,4))\n",
    "sns.histplot(data_filled['total_bill'], kde=True, bins=30)\n",
    "plt.title('Distribution of Total Bill (After Filling Missing Values)')\n",
    "plt.xlabel('Total Bill')\n",
    "plt.show()"
   ]
  },
  {
   "cell_type": "code",
   "execution_count": null,
   "metadata": {},
   "outputs": [],
   "source": []
  }
 ],
 "metadata": {
  "kernelspec": {
   "display_name": "Python 3",
   "language": "python",
   "name": "python3"
  },
  "language_info": {
   "codemirror_mode": {
    "name": "ipython",
    "version": 3
   },
   "file_extension": ".py",
   "mimetype": "text/x-python",
   "name": "python",
   "nbconvert_exporter": "python",
   "pygments_lexer": "ipython3",
   "version": "3.8.5"
  }
 },
 "nbformat": 4,
 "nbformat_minor": 4
}
